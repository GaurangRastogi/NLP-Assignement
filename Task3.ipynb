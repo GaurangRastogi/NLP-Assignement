{
 "cells": [
  {
   "cell_type": "code",
   "execution_count": 1,
   "metadata": {},
   "outputs": [],
   "source": [
    "#13-01-23\n",
    "#Topic: Simple Text Classification and Task-Tweet Tokenizer"
   ]
  },
  {
   "cell_type": "code",
   "execution_count": 2,
   "metadata": {},
   "outputs": [],
   "source": [
    "#shorturl.at/cQSX3\n",
    "#For Task 4"
   ]
  },
  {
   "cell_type": "code",
   "execution_count": 3,
   "metadata": {},
   "outputs": [
    {
     "data": {
      "text/plain": [
       "{'last_letter': 'n'}"
      ]
     },
     "execution_count": 3,
     "metadata": {},
     "output_type": "execute_result"
    }
   ],
   "source": [
    "def gender_features(word):\n",
    "    return{'last_letter':word [-1]}\n",
    "gender_features('Winston')"
   ]
  },
  {
   "cell_type": "code",
   "execution_count": 4,
   "metadata": {},
   "outputs": [
    {
     "name": "stderr",
     "output_type": "stream",
     "text": [
      "[nltk_data] Downloading package names to C:\\Users\\GAURANG\n",
      "[nltk_data]     RASTOGI\\AppData\\Roaming\\nltk_data...\n",
      "[nltk_data]   Package names is already up-to-date!\n"
     ]
    }
   ],
   "source": [
    "import nltk\n",
    "nltk.download('names')\n",
    "from nltk.corpus import names"
   ]
  },
  {
   "cell_type": "code",
   "execution_count": 5,
   "metadata": {},
   "outputs": [],
   "source": [
    "from nltk.corpus import names\n",
    "labeled_names = ([(name,'male') for name in names.words('male.txt')]+ \n",
    "[(name,'female') for name in names.words ('female.txt')])"
   ]
  },
  {
   "cell_type": "code",
   "execution_count": 6,
   "metadata": {},
   "outputs": [],
   "source": [
    "import random \n",
    "random.shuffle(labeled_names)"
   ]
  },
  {
   "cell_type": "code",
   "execution_count": 7,
   "metadata": {},
   "outputs": [],
   "source": [
    "featuresets = [(gender_features(n),gender) for (n,gender) in labeled_names]"
   ]
  },
  {
   "cell_type": "code",
   "execution_count": 8,
   "metadata": {},
   "outputs": [],
   "source": [
    "train_set, test_test = featuresets[500:],featuresets[:500]"
   ]
  },
  {
   "cell_type": "code",
   "execution_count": 9,
   "metadata": {},
   "outputs": [],
   "source": [
    "import nltk\n",
    "classifier = nltk. NaiveBayesClassifier.train(train_set)"
   ]
  },
  {
   "cell_type": "code",
   "execution_count": 10,
   "metadata": {},
   "outputs": [
    {
     "data": {
      "text/plain": [
       "'male'"
      ]
     },
     "execution_count": 10,
     "metadata": {},
     "output_type": "execute_result"
    }
   ],
   "source": [
    "classifier.classify(gender_features('Gaurang'))"
   ]
  },
  {
   "cell_type": "code",
   "execution_count": 11,
   "metadata": {},
   "outputs": [
    {
     "data": {
      "text/plain": [
       "'female'"
      ]
     },
     "execution_count": 11,
     "metadata": {},
     "output_type": "execute_result"
    }
   ],
   "source": [
    "classifier.classify(gender_features ('Ana'))"
   ]
  },
  {
   "cell_type": "code",
   "execution_count": 12,
   "metadata": {},
   "outputs": [
    {
     "name": "stdout",
     "output_type": "stream",
     "text": [
      "0.776\n"
     ]
    }
   ],
   "source": [
    "print(nltk.classify.accuracy(classifier, test_test)) #77%-accuracy"
   ]
  },
  {
   "cell_type": "code",
   "execution_count": 13,
   "metadata": {},
   "outputs": [],
   "source": [
    "#Task-Tweet Tokenizer"
   ]
  },
  {
   "cell_type": "code",
   "execution_count": 14,
   "metadata": {},
   "outputs": [],
   "source": [
    "import nltk"
   ]
  },
  {
   "cell_type": "code",
   "execution_count": 15,
   "metadata": {},
   "outputs": [
    {
     "data": {
      "text/plain": [
       "['The', 'Party', 'was', 'soooo', 'fun', '😀', '#superfun']"
      ]
     },
     "execution_count": 15,
     "metadata": {},
     "output_type": "execute_result"
    }
   ],
   "source": [
    "from nltk.tokenize import TweetTokenizer\n",
    "text = 'The Party was soooo fun 😀 #superfun'\n",
    "twtkn = TweetTokenizer()\n",
    "twtkn.tokenize(text)"
   ]
  },
  {
   "cell_type": "code",
   "execution_count": 16,
   "metadata": {},
   "outputs": [],
   "source": [
    "#MODI and MICHAEL JORDAN\n",
    "#https://www.english-corpora.org/coca/\n",
    "#Explored the different Tabs Search, Chart etc."
   ]
  },
  {
   "cell_type": "code",
   "execution_count": 17,
   "metadata": {},
   "outputs": [],
   "source": [
    "# MODI\n",
    "\n",
    "# 1. FREQ COUNT -> 425\n",
    "\n",
    "# 2. Chart - Highest Frequency:\n",
    "#    Genre-wise:\n",
    "#     Section: NEWS - FREQ->181, WORDS(M)->121.7, PER MIL->1.49\n",
    "#     Sub-Section: News_Intl - FREQ->139, WORDS(M)->6.3, PER MIL->21.98\n",
    "#    Yearwise: \n",
    "#     2015-19: FREQ->221, WORDS(M)->122.8, PER MIL->1.80\n",
    "#         2019: FREQ->112, WORDS(M)->24.9, PER MIL->4.49\n",
    "\n",
    "\n",
    "# 3. Collocates: Three collocations on the left and right of each word\n",
    "#     a. NARENDRA - FREQ->97, ALL->180,   %->53.89, MI->17.68\n",
    "#     b. MINISTER - FREQ->80, ALL->52987, %->0.15, MI->9.20\n",
    "#     c. PRIME -    FREQ->68, ALL->46411, %->0.15, MI->9.16\n",
    "#     d. MR -       FREQ->59, ALL->482798,%->0.01, MI->5.57\n",
    "#     e. PM -       FREQ->18, ALL->85843, %->0.02, MI->6.35\n",
    "#     f. HINDU -    FREQ->13, ALL->4451,  %->0.29, MI->10.15\n",
    "#     g. GOVERNMENT - FREQ->13, ALL->396384, %->0.00, MI->3.67\n",
    "#    etc."
   ]
  }
 ],
 "metadata": {
  "kernelspec": {
   "display_name": "Python 3",
   "language": "python",
   "name": "python3"
  },
  "language_info": {
   "codemirror_mode": {
    "name": "ipython",
    "version": 3
   },
   "file_extension": ".py",
   "mimetype": "text/x-python",
   "name": "python",
   "nbconvert_exporter": "python",
   "pygments_lexer": "ipython3",
   "version": "3.10.4 (tags/v3.10.4:9d38120, Mar 23 2022, 23:13:41) [MSC v.1929 64 bit (AMD64)]"
  },
  "orig_nbformat": 4,
  "vscode": {
   "interpreter": {
    "hash": "20643ba39cc192cecd775d36cbcb290681c3cfe28e501fd357f2d90d955dc5c4"
   }
  }
 },
 "nbformat": 4,
 "nbformat_minor": 2
}
