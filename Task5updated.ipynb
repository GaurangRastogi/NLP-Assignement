{
 "cells": [
  {
   "cell_type": "code",
   "execution_count": 1,
   "metadata": {},
   "outputs": [],
   "source": [
    "#Vectorizing - Updated"
   ]
  },
  {
   "cell_type": "code",
   "execution_count": 2,
   "metadata": {},
   "outputs": [],
   "source": [
    "from sklearn.feature_extraction.text import CountVectorizer\n",
    "vect=CountVectorizer(binary=True)"
   ]
  },
  {
   "cell_type": "code",
   "execution_count": 3,
   "metadata": {},
   "outputs": [],
   "source": [
    "corpus=[\"NLP is awesome\",\"I want to start aN NLP Company\",\"Top unicorns use NLP\"]"
   ]
  },
  {
   "cell_type": "code",
   "execution_count": 4,
   "metadata": {},
   "outputs": [
    {
     "data": {
      "text/html": [
       "<style>#sk-container-id-1 {color: black;background-color: white;}#sk-container-id-1 pre{padding: 0;}#sk-container-id-1 div.sk-toggleable {background-color: white;}#sk-container-id-1 label.sk-toggleable__label {cursor: pointer;display: block;width: 100%;margin-bottom: 0;padding: 0.3em;box-sizing: border-box;text-align: center;}#sk-container-id-1 label.sk-toggleable__label-arrow:before {content: \"▸\";float: left;margin-right: 0.25em;color: #696969;}#sk-container-id-1 label.sk-toggleable__label-arrow:hover:before {color: black;}#sk-container-id-1 div.sk-estimator:hover label.sk-toggleable__label-arrow:before {color: black;}#sk-container-id-1 div.sk-toggleable__content {max-height: 0;max-width: 0;overflow: hidden;text-align: left;background-color: #f0f8ff;}#sk-container-id-1 div.sk-toggleable__content pre {margin: 0.2em;color: black;border-radius: 0.25em;background-color: #f0f8ff;}#sk-container-id-1 input.sk-toggleable__control:checked~div.sk-toggleable__content {max-height: 200px;max-width: 100%;overflow: auto;}#sk-container-id-1 input.sk-toggleable__control:checked~label.sk-toggleable__label-arrow:before {content: \"▾\";}#sk-container-id-1 div.sk-estimator input.sk-toggleable__control:checked~label.sk-toggleable__label {background-color: #d4ebff;}#sk-container-id-1 div.sk-label input.sk-toggleable__control:checked~label.sk-toggleable__label {background-color: #d4ebff;}#sk-container-id-1 input.sk-hidden--visually {border: 0;clip: rect(1px 1px 1px 1px);clip: rect(1px, 1px, 1px, 1px);height: 1px;margin: -1px;overflow: hidden;padding: 0;position: absolute;width: 1px;}#sk-container-id-1 div.sk-estimator {font-family: monospace;background-color: #f0f8ff;border: 1px dotted black;border-radius: 0.25em;box-sizing: border-box;margin-bottom: 0.5em;}#sk-container-id-1 div.sk-estimator:hover {background-color: #d4ebff;}#sk-container-id-1 div.sk-parallel-item::after {content: \"\";width: 100%;border-bottom: 1px solid gray;flex-grow: 1;}#sk-container-id-1 div.sk-label:hover label.sk-toggleable__label {background-color: #d4ebff;}#sk-container-id-1 div.sk-serial::before {content: \"\";position: absolute;border-left: 1px solid gray;box-sizing: border-box;top: 0;bottom: 0;left: 50%;z-index: 0;}#sk-container-id-1 div.sk-serial {display: flex;flex-direction: column;align-items: center;background-color: white;padding-right: 0.2em;padding-left: 0.2em;position: relative;}#sk-container-id-1 div.sk-item {position: relative;z-index: 1;}#sk-container-id-1 div.sk-parallel {display: flex;align-items: stretch;justify-content: center;background-color: white;position: relative;}#sk-container-id-1 div.sk-item::before, #sk-container-id-1 div.sk-parallel-item::before {content: \"\";position: absolute;border-left: 1px solid gray;box-sizing: border-box;top: 0;bottom: 0;left: 50%;z-index: -1;}#sk-container-id-1 div.sk-parallel-item {display: flex;flex-direction: column;z-index: 1;position: relative;background-color: white;}#sk-container-id-1 div.sk-parallel-item:first-child::after {align-self: flex-end;width: 50%;}#sk-container-id-1 div.sk-parallel-item:last-child::after {align-self: flex-start;width: 50%;}#sk-container-id-1 div.sk-parallel-item:only-child::after {width: 0;}#sk-container-id-1 div.sk-dashed-wrapped {border: 1px dashed gray;margin: 0 0.4em 0.5em 0.4em;box-sizing: border-box;padding-bottom: 0.4em;background-color: white;}#sk-container-id-1 div.sk-label label {font-family: monospace;font-weight: bold;display: inline-block;line-height: 1.2em;}#sk-container-id-1 div.sk-label-container {text-align: center;}#sk-container-id-1 div.sk-container {/* jupyter's `normalize.less` sets `[hidden] { display: none; }` but bootstrap.min.css set `[hidden] { display: none !important; }` so we also need the `!important` here to be able to override the default hidden behavior on the sphinx rendered scikit-learn.org. See: https://github.com/scikit-learn/scikit-learn/issues/21755 */display: inline-block !important;position: relative;}#sk-container-id-1 div.sk-text-repr-fallback {display: none;}</style><div id=\"sk-container-id-1\" class=\"sk-top-container\"><div class=\"sk-text-repr-fallback\"><pre>CountVectorizer(binary=True)</pre><b>In a Jupyter environment, please rerun this cell to show the HTML representation or trust the notebook. <br />On GitHub, the HTML representation is unable to render, please try loading this page with nbviewer.org.</b></div><div class=\"sk-container\" hidden><div class=\"sk-item\"><div class=\"sk-estimator sk-toggleable\"><input class=\"sk-toggleable__control sk-hidden--visually\" id=\"sk-estimator-id-1\" type=\"checkbox\" checked><label for=\"sk-estimator-id-1\" class=\"sk-toggleable__label sk-toggleable__label-arrow\">CountVectorizer</label><div class=\"sk-toggleable__content\"><pre>CountVectorizer(binary=True)</pre></div></div></div></div></div>"
      ],
      "text/plain": [
       "CountVectorizer(binary=True)"
      ]
     },
     "execution_count": 4,
     "metadata": {},
     "output_type": "execute_result"
    }
   ],
   "source": [
    "vect.fit(corpus)"
   ]
  },
  {
   "cell_type": "code",
   "execution_count": 5,
   "metadata": {},
   "outputs": [],
   "source": [
    "vocab=vect.vocabulary_  #Attribute"
   ]
  },
  {
   "cell_type": "code",
   "execution_count": 6,
   "metadata": {},
   "outputs": [
    {
     "name": "stdout",
     "output_type": "stream",
     "text": [
      "an:0\n",
      "awesome:1\n",
      "company:2\n",
      "is:3\n",
      "nlp:4\n",
      "start:5\n",
      "to:6\n",
      "top:7\n",
      "unicorns:8\n",
      "use:9\n",
      "want:10\n"
     ]
    }
   ],
   "source": [
    "for key in sorted(vocab.keys()):\n",
    "    print(\"{}:{}\".format(key,vocab[key]))"
   ]
  },
  {
   "cell_type": "code",
   "execution_count": 7,
   "metadata": {},
   "outputs": [
    {
     "data": {
      "text/plain": [
       "array([[1, 1, 1, 0, 1, 0, 0, 0, 0, 0, 0]], dtype=int64)"
      ]
     },
     "execution_count": 7,
     "metadata": {},
     "output_type": "execute_result"
    }
   ],
   "source": [
    "vect.transform([\"I have an awesome NLP Company worth an awesome billion\"]).toarray() #Transform function to compare if the word is present or not."
   ]
  },
  {
   "cell_type": "code",
   "execution_count": 8,
   "metadata": {},
   "outputs": [],
   "source": [
    "#Cosine btw two angles btw 0-180 degresss, we see if the angle is acute it is closer to each other so it has higher plagarism. If they are far i.e. 180 degree then it is less plagarised.\n",
    "#It looks for the commanality of words."
   ]
  },
  {
   "cell_type": "code",
   "execution_count": 9,
   "metadata": {},
   "outputs": [],
   "source": [
    "from sklearn.metrics.pairwise import cosine_similarity\n",
    "similarity=cosine_similarity((vect.transform([\"ML is an elective\"]).toarray()),vect.transform([\"Airbnb uses NLP Techniques\"]).toarray())"
   ]
  },
  {
   "cell_type": "code",
   "execution_count": 10,
   "metadata": {},
   "outputs": [],
   "source": [
    "#By removing toarray()\n",
    "from sklearn.metrics.pairwise import cosine_similarity\n",
    "similarity=cosine_similarity(vect.transform([\"ML is an elective\"]),vect.transform([\"Airbnb uses NLP Techniques\"]))"
   ]
  },
  {
   "cell_type": "code",
   "execution_count": 11,
   "metadata": {},
   "outputs": [
    {
     "name": "stdout",
     "output_type": "stream",
     "text": [
      "[[0.]]\n"
     ]
    }
   ],
   "source": [
    "print(similarity)"
   ]
  },
  {
   "cell_type": "code",
   "execution_count": 12,
   "metadata": {},
   "outputs": [
    {
     "data": {
      "text/plain": [
       "array([[1, 0, 0, 1, 0, 0, 0, 0, 0, 0, 0]], dtype=int64)"
      ]
     },
     "execution_count": 12,
     "metadata": {},
     "output_type": "execute_result"
    }
   ],
   "source": [
    "vect.transform([\"ML is an elective\"]).toarray()"
   ]
  },
  {
   "cell_type": "code",
   "execution_count": 13,
   "metadata": {},
   "outputs": [
    {
     "data": {
      "text/plain": [
       "array([[0, 0, 0, 0, 1, 0, 0, 0, 0, 0, 0]], dtype=int64)"
      ]
     },
     "execution_count": 13,
     "metadata": {},
     "output_type": "execute_result"
    }
   ],
   "source": [
    "vect.transform([\"Airbnb uses NLP Techniques\"]).toarray()"
   ]
  },
  {
   "cell_type": "code",
   "execution_count": 14,
   "metadata": {},
   "outputs": [
    {
     "data": {
      "text/plain": [
       "array(['and', 'document', 'first', 'is', 'one', 'second', 'the', 'third',\n",
       "       'this'], dtype=object)"
      ]
     },
     "execution_count": 14,
     "metadata": {},
     "output_type": "execute_result"
    }
   ],
   "source": [
    "#Tfidf Vectorizer\n",
    "#use Tfidf vectorizer instead of Count Vectorizer\n",
    "#sklearn.feature_extraction.text.TfidfVectorizer\n",
    "#Vectorize any speech of Barak Obama. - https://www.americanrhetoric.com/\n",
    "\n",
    "from sklearn.feature_extraction.text import TfidfVectorizer\n",
    "corpus = [\n",
    "    'This is the first document.',\n",
    "    'This document is the second document.',\n",
    "    'And this is the third one.',\n",
    "    'Is this the first document?',\n",
    "]\n",
    "vectorizer = TfidfVectorizer()\n",
    "X = vectorizer.fit_transform(corpus)\n",
    "vectorizer.get_feature_names_out()"
   ]
  },
  {
   "cell_type": "code",
   "execution_count": 15,
   "metadata": {},
   "outputs": [
    {
     "name": "stdout",
     "output_type": "stream",
     "text": [
      "(4, 9)\n"
     ]
    }
   ],
   "source": [
    "print(X.shape)"
   ]
  },
  {
   "cell_type": "code",
   "execution_count": 16,
   "metadata": {},
   "outputs": [],
   "source": [
    "import nltk\n",
    "from sklearn.metrics.pairwise import cosine_similarity\n",
    "from sklearn.feature_extraction.text import TfidfVectorizer\n",
    "from nltk.corpus import stopwords"
   ]
  },
  {
   "cell_type": "code",
   "execution_count": 17,
   "metadata": {},
   "outputs": [],
   "source": [
    "text1 = \"\"\"One of the finer books I read this year was John Kaag’s Hiking With Nietzsche, in which Kaag, a professor of philosophy, rekindles his passion for the German thinker while tracing picturesque hiking trails in the mountains of Switzerland. \n",
    "It’s a near-precise rendering of the travelogue as a self-help book. \n",
    "A young Kaag was an avowed Nietzsche acolyte but given the ravages of responsibilities and adulthood, the writer put his affinity to test by undertaking physically enduring hikes through the Alps, revisiting haunts that the philosopher escaped to, in search of solitude and salve. \n",
    "The journey’s demands, coupled with his own inner turmoil, are catnip for anybody feeling at cross purposes with their own life.\n",
    "\n",
    "In the book, Kaag quotes Neitzsche writing to his mother after he had spent time in Splügen, “I was overcome by the desire to remain here… this high alpine valley… There are pure, strong gusts of air, hills and boulders of all shapes… But what pleases me the most are the splendid highroads over which I walk for hours.” \n",
    "Travel as the answer to searching questions is hardly a radical idea but what’s endearing about the book is that it subtly confirms a basic tenet of why we go on these journeys in the first place. \n",
    "Sometimes, being on the move matters more than anything else. \"\"\""
   ]
  },
  {
   "cell_type": "code",
   "execution_count": 18,
   "metadata": {},
   "outputs": [],
   "source": [
    "text2 = \"\"\"If there is a phrase I would prefer to retire from online bios, personal or professional, it is, “I love travel.” \n",
    "Or some approximation of that sentiment. \n",
    "To clarify, I am not against travellers or those who proudly flaunt their passion for travel. \n",
    "On the contrary, editing a travel magazine has now made me oddly protective of travellers and their ilk. \n",
    "My submission is that “love to travel,” suggested so casually, just doesn’t feel adequate to the depth of emotion it sparks in true devotees.\n",
    "In February, the month of love as endowed by our great gifting industrial complex, we are wrestling with what “love for travel” means in tangible, life-affecting terms. \n",
    "The early throes of discovering travel might not be too dissimilar to the beginnings of a feverish affair.\n",
    "A fleeting scene, sound or feeling that at first arouses, then enchants and eventually, lures us into a hypnotic state, evoking woolly-eyed reveries. \"\"\""
   ]
  },
  {
   "cell_type": "code",
   "execution_count": 19,
   "metadata": {},
   "outputs": [],
   "source": [
    "text3 = \"\"\"Summer is a charming flirt. Easy-going and casual. \n",
    "Summer doesn’t huff and puff to win our affections. It has us at “Hello.” Winter broods like the tortured protagonist of big fat Russian novel. It is daunting and dramatic, burning with a slow intensity.\n",
    "The season’s reputation precedes itself, and often, not in a good way. \n",
    "It has a way of whittling down everything to its bare bones. \n",
    "Even relationships not attuned to its ebbs and flows can fray. \n",
    "At a dinner conversation I once attended, I listened in bemusement as a recent divorcee made the case that it was the Scandinavian frost that had cooled his ex-wife’s ardour. How original.\n",
    "Winter travel is an exercise in negotiation, especially for sunshine souls. \n",
    "“How many extra clothes do I have to pack now?” “The weather is minus-what-did-you-say?” All valid concerns but the recommendations far outweigh them. Take one trivial scoring point: the winter wardrobe, which is tres chic, and can make the most sartorially challenged among us look like runway models.\n",
    "The allure of winter lies in nature—so immense, overwhelming and, of course, achingly beautiful. In his collection of letters to an unborn daughter. \"\"\""
   ]
  },
  {
   "cell_type": "code",
   "execution_count": 20,
   "metadata": {},
   "outputs": [
    {
     "data": {
      "text/plain": [
       "['One of the finer books I read this year was John Kaag’s Hiking With Nietzsche, in which Kaag, a professor of philosophy, rekindles his passion for the German thinker while tracing picturesque hiking trails in the mountains of Switzerland. \\nIt’s a near-precise rendering of the travelogue as a self-help book. \\nA young Kaag was an avowed Nietzsche acolyte but given the ravages of responsibilities and adulthood, the writer put his affinity to test by undertaking physically enduring hikes through the Alps, revisiting haunts that the philosopher escaped to, in search of solitude and salve. \\nThe journey’s demands, coupled with his own inner turmoil, are catnip for anybody feeling at cross purposes with their own life.\\n\\nIn the book, Kaag quotes Neitzsche writing to his mother after he had spent time in Splügen, “I was overcome by the desire to remain here… this high alpine valley… There are pure, strong gusts of air, hills and boulders of all shapes… But what pleases me the most are the splendid highroads over which I walk for hours.” \\nTravel as the answer to searching questions is hardly a radical idea but what’s endearing about the book is that it subtly confirms a basic tenet of why we go on these journeys in the first place. \\nSometimes, being on the move matters more than anything else. ',\n",
       " 'If there is a phrase I would prefer to retire from online bios, personal or professional, it is, “I love travel.” \\nOr some approximation of that sentiment. \\nTo clarify, I am not against travellers or those who proudly flaunt their passion for travel. \\nOn the contrary, editing a travel magazine has now made me oddly protective of travellers and their ilk. \\nMy submission is that “love to travel,” suggested so casually, just doesn’t feel adequate to the depth of emotion it sparks in true devotees.\\nIn February, the month of love as endowed by our great gifting industrial complex, we are wrestling with what “love for travel” means in tangible, life-affecting terms. \\nThe early throes of discovering travel might not be too dissimilar to the beginnings of a feverish affair.\\nA fleeting scene, sound or feeling that at first arouses, then enchants and eventually, lures us into a hypnotic state, evoking woolly-eyed reveries. ',\n",
       " 'Summer is a charming flirt. Easy-going and casual. \\nSummer doesn’t huff and puff to win our affections. It has us at “Hello.” Winter broods like the tortured protagonist of big fat Russian novel. It is daunting and dramatic, burning with a slow intensity.\\nThe season’s reputation precedes itself, and often, not in a good way. \\nIt has a way of whittling down everything to its bare bones. \\nEven relationships not attuned to its ebbs and flows can fray. \\nAt a dinner conversation I once attended, I listened in bemusement as a recent divorcee made the case that it was the Scandinavian frost that had cooled his ex-wife’s ardour. How original.\\nWinter travel is an exercise in negotiation, especially for sunshine souls. \\n“How many extra clothes do I have to pack now?” “The weather is minus-what-did-you-say?” All valid concerns but the recommendations far outweigh them. Take one trivial scoring point: the winter wardrobe, which is tres chic, and can make the most sartorially challenged among us look like runway models.\\nThe allure of winter lies in nature—so immense, overwhelming and, of course, achingly beautiful. In his collection of letters to an unborn daughter. ']"
      ]
     },
     "execution_count": 20,
     "metadata": {},
     "output_type": "execute_result"
    }
   ],
   "source": [
    "corpus = [text1, text2, text3]\n",
    "corpus"
   ]
  },
  {
   "cell_type": "code",
   "execution_count": 21,
   "metadata": {},
   "outputs": [],
   "source": [
    "stopWords = stopwords.words('english')"
   ]
  },
  {
   "cell_type": "code",
   "execution_count": 22,
   "metadata": {},
   "outputs": [],
   "source": [
    "tfidf_vectorizer = TfidfVectorizer(stop_words=stopWords)"
   ]
  },
  {
   "cell_type": "code",
   "execution_count": 23,
   "metadata": {},
   "outputs": [],
   "source": [
    "tfidf_matrix_train = tfidf_vectorizer.fit_transform(corpus)"
   ]
  },
  {
   "cell_type": "code",
   "execution_count": 24,
   "metadata": {},
   "outputs": [
    {
     "name": "stdout",
     "output_type": "stream",
     "text": [
      "\n",
      "Similarity Score : [[1.         0.03855722 0.00713304]]\n"
     ]
    }
   ],
   "source": [
    "print (\"\\nSimilarity Score :\", cosine_similarity(tfidf_matrix_train[0:1], tfidf_matrix_train))"
   ]
  },
  {
   "cell_type": "code",
   "execution_count": 25,
   "metadata": {},
   "outputs": [],
   "source": [
    "#Extra Work\n",
    "#Checking similarity from data collected from google.\n",
    "# https://www.machinelearningplus.com/nlp/cosine-similarity/\n",
    "# FROM KAGGLE"
   ]
  },
  {
   "cell_type": "code",
   "execution_count": 26,
   "metadata": {},
   "outputs": [],
   "source": [
    "from scipy.spatial import distance\n",
    "def cosine_distance_countvectorizer_method(s1, s2):\n",
    "    \n",
    "    # sentences to list\n",
    "    allsentences = [s1 , s2]\n",
    " \n",
    "    # text to vector\n",
    "    vectorizer = CountVectorizer()\n",
    "    all_sentences_to_vector = vectorizer.fit_transform(allsentences)\n",
    "    text_to_vector_v1 = all_sentences_to_vector.toarray()[0].tolist()\n",
    "    text_to_vector_v2 = all_sentences_to_vector.toarray()[1].tolist()\n",
    "    \n",
    "    # distance of similarity\n",
    "    cosine = distance.cosine(text_to_vector_v1, text_to_vector_v2)\n",
    "    print('Similarity of two sentences are equal to ',round((1-cosine)*100,2),'%')\n",
    "    return cosine"
   ]
  },
  {
   "cell_type": "code",
   "execution_count": 27,
   "metadata": {},
   "outputs": [
    {
     "name": "stdout",
     "output_type": "stream",
     "text": [
      "Similarity of two sentences are equal to  36.51 %\n"
     ]
    },
    {
     "data": {
      "text/plain": [
       "0.6348516283298893"
      ]
     },
     "execution_count": 27,
     "metadata": {},
     "output_type": "execute_result"
    }
   ],
   "source": [
    "cosine_distance_countvectorizer_method(\"ML is an elective subject\", \"NLP is an attractive career now\")"
   ]
  },
  {
   "attachments": {},
   "cell_type": "markdown",
   "metadata": {},
   "source": [
    "### NatGeo Traveller"
   ]
  },
  {
   "cell_type": "code",
   "execution_count": 28,
   "metadata": {},
   "outputs": [],
   "source": [
    "#NatGeo- natgeotraveller.in- Make a corpus and find similarity between two articles of a writer, if she is an origialwriter or not.\n",
    "\n",
    "#Take 1st para of first 5 articles, in natgeo\n",
    "#Writer- Lakshmi Sankaran \n",
    "#Check also who is a better writer in btw 2 people.Check for teh similarity value.If tge similarity value is less that person is a better writer."
   ]
  },
  {
   "cell_type": "code",
   "execution_count": 29,
   "metadata": {},
   "outputs": [],
   "source": [
    "article_corpus = [\"This blog provides general Common Code Remediation while migrating from XS Classic(XSC) to XS Advanced(XSA) environment using the XSA tool. The same are also applicable as concepts for manually migrating from an on-premise database to the  SAP HANA cloud. You have already started the various available paths for migrating the objects and you have enough reason and know the process step by step to do the migration manually using different methods.\", \"Direct flights from Pune to SingaporeTravellers can now fly directly between Pune and Singapore starting December 2, courtesy Vistara which will kick off three to four flights every week. International connections from Pune are rare (right now, Dubai is the sole one); visitors normally rely on Mumbai airport for the same.\", \"September inauguration for Goa’s next airportTravel to Goa could witness a cascading effect after September 2022 when Mopa international airport, the state’s second such airport after the one in Dabolim, finally opens to tourists.\", \"Schengen visa process to go digitalIn a bid to ease paperwork for millions of tourists, the EU has proposed to make the Schengen visa process an online application system in the next few years. The Schengen visa allows travellers to visit and travel across 26 EU member nations for up to 90 days.\", \"Suba aluth auwrudh dhak vewa. Puthandu vazhthukal. These are the Sinhalese and Tamil New Year greetings. ‘Aluth Avurudda’ is a festive day in Sri Lanka and I am wondering how I can recreate some elements of it being under the lockdown this year. The new year marks a new phase in the zodiac calendar with the sun moving from Meena (Pisces) to Mesha (Aries) in April.\"]"
   ]
  },
  {
   "cell_type": "code",
   "execution_count": 30,
   "metadata": {},
   "outputs": [
    {
     "data": {
      "text/html": [
       "<style>#sk-container-id-2 {color: black;background-color: white;}#sk-container-id-2 pre{padding: 0;}#sk-container-id-2 div.sk-toggleable {background-color: white;}#sk-container-id-2 label.sk-toggleable__label {cursor: pointer;display: block;width: 100%;margin-bottom: 0;padding: 0.3em;box-sizing: border-box;text-align: center;}#sk-container-id-2 label.sk-toggleable__label-arrow:before {content: \"▸\";float: left;margin-right: 0.25em;color: #696969;}#sk-container-id-2 label.sk-toggleable__label-arrow:hover:before {color: black;}#sk-container-id-2 div.sk-estimator:hover label.sk-toggleable__label-arrow:before {color: black;}#sk-container-id-2 div.sk-toggleable__content {max-height: 0;max-width: 0;overflow: hidden;text-align: left;background-color: #f0f8ff;}#sk-container-id-2 div.sk-toggleable__content pre {margin: 0.2em;color: black;border-radius: 0.25em;background-color: #f0f8ff;}#sk-container-id-2 input.sk-toggleable__control:checked~div.sk-toggleable__content {max-height: 200px;max-width: 100%;overflow: auto;}#sk-container-id-2 input.sk-toggleable__control:checked~label.sk-toggleable__label-arrow:before {content: \"▾\";}#sk-container-id-2 div.sk-estimator input.sk-toggleable__control:checked~label.sk-toggleable__label {background-color: #d4ebff;}#sk-container-id-2 div.sk-label input.sk-toggleable__control:checked~label.sk-toggleable__label {background-color: #d4ebff;}#sk-container-id-2 input.sk-hidden--visually {border: 0;clip: rect(1px 1px 1px 1px);clip: rect(1px, 1px, 1px, 1px);height: 1px;margin: -1px;overflow: hidden;padding: 0;position: absolute;width: 1px;}#sk-container-id-2 div.sk-estimator {font-family: monospace;background-color: #f0f8ff;border: 1px dotted black;border-radius: 0.25em;box-sizing: border-box;margin-bottom: 0.5em;}#sk-container-id-2 div.sk-estimator:hover {background-color: #d4ebff;}#sk-container-id-2 div.sk-parallel-item::after {content: \"\";width: 100%;border-bottom: 1px solid gray;flex-grow: 1;}#sk-container-id-2 div.sk-label:hover label.sk-toggleable__label {background-color: #d4ebff;}#sk-container-id-2 div.sk-serial::before {content: \"\";position: absolute;border-left: 1px solid gray;box-sizing: border-box;top: 0;bottom: 0;left: 50%;z-index: 0;}#sk-container-id-2 div.sk-serial {display: flex;flex-direction: column;align-items: center;background-color: white;padding-right: 0.2em;padding-left: 0.2em;position: relative;}#sk-container-id-2 div.sk-item {position: relative;z-index: 1;}#sk-container-id-2 div.sk-parallel {display: flex;align-items: stretch;justify-content: center;background-color: white;position: relative;}#sk-container-id-2 div.sk-item::before, #sk-container-id-2 div.sk-parallel-item::before {content: \"\";position: absolute;border-left: 1px solid gray;box-sizing: border-box;top: 0;bottom: 0;left: 50%;z-index: -1;}#sk-container-id-2 div.sk-parallel-item {display: flex;flex-direction: column;z-index: 1;position: relative;background-color: white;}#sk-container-id-2 div.sk-parallel-item:first-child::after {align-self: flex-end;width: 50%;}#sk-container-id-2 div.sk-parallel-item:last-child::after {align-self: flex-start;width: 50%;}#sk-container-id-2 div.sk-parallel-item:only-child::after {width: 0;}#sk-container-id-2 div.sk-dashed-wrapped {border: 1px dashed gray;margin: 0 0.4em 0.5em 0.4em;box-sizing: border-box;padding-bottom: 0.4em;background-color: white;}#sk-container-id-2 div.sk-label label {font-family: monospace;font-weight: bold;display: inline-block;line-height: 1.2em;}#sk-container-id-2 div.sk-label-container {text-align: center;}#sk-container-id-2 div.sk-container {/* jupyter's `normalize.less` sets `[hidden] { display: none; }` but bootstrap.min.css set `[hidden] { display: none !important; }` so we also need the `!important` here to be able to override the default hidden behavior on the sphinx rendered scikit-learn.org. See: https://github.com/scikit-learn/scikit-learn/issues/21755 */display: inline-block !important;position: relative;}#sk-container-id-2 div.sk-text-repr-fallback {display: none;}</style><div id=\"sk-container-id-2\" class=\"sk-top-container\"><div class=\"sk-text-repr-fallback\"><pre>CountVectorizer(binary=True)</pre><b>In a Jupyter environment, please rerun this cell to show the HTML representation or trust the notebook. <br />On GitHub, the HTML representation is unable to render, please try loading this page with nbviewer.org.</b></div><div class=\"sk-container\" hidden><div class=\"sk-item\"><div class=\"sk-estimator sk-toggleable\"><input class=\"sk-toggleable__control sk-hidden--visually\" id=\"sk-estimator-id-2\" type=\"checkbox\" checked><label for=\"sk-estimator-id-2\" class=\"sk-toggleable__label sk-toggleable__label-arrow\">CountVectorizer</label><div class=\"sk-toggleable__content\"><pre>CountVectorizer(binary=True)</pre></div></div></div></div></div>"
      ],
      "text/plain": [
       "CountVectorizer(binary=True)"
      ]
     },
     "execution_count": 30,
     "metadata": {},
     "output_type": "execute_result"
    }
   ],
   "source": [
    "vect.fit(article_corpus)"
   ]
  },
  {
   "cell_type": "code",
   "execution_count": 31,
   "metadata": {},
   "outputs": [
    {
     "name": "stdout",
     "output_type": "stream",
     "text": [
      "this : 147\n",
      "blog : 27\n",
      "provides : 116\n",
      "general : 67\n",
      "common : 35\n",
      "code : 34\n",
      "remediation : 123\n",
      "while : 167\n",
      "migrating : 91\n",
      "from : 66\n",
      "xs : 172\n",
      "classic : 32\n",
      "xsc : 174\n",
      "to : 149\n",
      "advanced : 4\n",
      "xsa : 173\n",
      "environment : 56\n",
      "using : 156\n",
      "the : 145\n",
      "tool : 150\n",
      "same : 125\n",
      "are : 18\n",
      "also : 10\n",
      "applicable : 15\n",
      "as : 20\n",
      "concepts : 36\n",
      "for : 64\n",
      "manually : 85\n",
      "an : 13\n",
      "on : 105\n",
      "premise : 113\n",
      "database : 41\n",
      "sap : 126\n",
      "hana : 71\n",
      "cloud : 33\n",
      "you : 177\n",
      "have : 73\n",
      "already : 9\n",
      "started : 136\n",
      "various : 157\n",
      "available : 22\n",
      "paths : 110\n",
      "objects : 102\n",
      "and : 14\n",
      "enough : 55\n",
      "reason : 120\n",
      "know : 81\n",
      "process : 114\n",
      "step : 139\n",
      "by : 28\n",
      "do : 50\n",
      "migration : 92\n",
      "different : 46\n",
      "methods : 90\n",
      "direct : 48\n",
      "flights : 62\n",
      "pune : 117\n",
      "singaporetravellers : 131\n",
      "can : 30\n",
      "now : 101\n",
      "fly : 63\n",
      "directly : 49\n",
      "between : 25\n",
      "singapore : 130\n",
      "starting : 137\n",
      "december : 44\n",
      "courtesy : 39\n",
      "vistara : 163\n",
      "which : 166\n",
      "will : 168\n",
      "kick : 80\n",
      "off : 104\n",
      "three : 148\n",
      "four : 65\n",
      "every : 58\n",
      "week : 164\n",
      "international : 77\n",
      "connections : 37\n",
      "rare : 119\n",
      "right : 124\n",
      "dubai : 51\n",
      "is : 78\n",
      "sole : 133\n",
      "one : 106\n",
      "visitors : 162\n",
      "normally : 100\n",
      "rely : 122\n",
      "mumbai : 96\n",
      "airport : 6\n",
      "september : 129\n",
      "inauguration : 76\n",
      "goa : 69\n",
      "next : 99\n",
      "airporttravel : 7\n",
      "could : 38\n",
      "witness : 170\n",
      "cascading : 31\n",
      "effect : 53\n",
      "after : 5\n",
      "2022 : 0\n",
      "when : 165\n",
      "mopa : 94\n",
      "state : 138\n",
      "second : 128\n",
      "such : 141\n",
      "in : 75\n",
      "dabolim : 40\n",
      "finally : 61\n",
      "opens : 108\n",
      "tourists : 151\n",
      "schengen : 127\n",
      "visa : 160\n",
      "go : 68\n",
      "digitalin : 47\n",
      "bid : 26\n",
      "ease : 52\n",
      "paperwork : 109\n",
      "millions : 93\n",
      "of : 103\n",
      "eu : 57\n",
      "has : 72\n",
      "proposed : 115\n",
      "make : 84\n",
      "online : 107\n",
      "application : 16\n",
      "system : 143\n",
      "few : 60\n",
      "years : 176\n",
      "allows : 8\n",
      "travellers : 153\n",
      "visit : 161\n",
      "travel : 152\n",
      "across : 3\n",
      "26 : 1\n",
      "member : 88\n",
      "nations : 97\n",
      "up : 155\n",
      "90 : 2\n",
      "days : 43\n",
      "suba : 140\n",
      "aluth : 11\n",
      "auwrudh : 21\n",
      "dhak : 45\n",
      "vewa : 159\n",
      "puthandu : 118\n",
      "vazhthukal : 158\n",
      "these : 146\n",
      "sinhalese : 132\n",
      "tamil : 144\n",
      "new : 98\n",
      "year : 175\n",
      "greetings : 70\n",
      "avurudda : 23\n",
      "festive : 59\n",
      "day : 42\n",
      "sri : 135\n",
      "lanka : 82\n",
      "am : 12\n",
      "wondering : 171\n",
      "how : 74\n",
      "recreate : 121\n",
      "some : 134\n",
      "elements : 54\n",
      "it : 79\n",
      "being : 24\n",
      "under : 154\n",
      "lockdown : 83\n",
      "marks : 86\n",
      "phase : 111\n",
      "zodiac : 178\n",
      "calendar : 29\n",
      "with : 169\n",
      "sun : 142\n",
      "moving : 95\n",
      "meena : 87\n",
      "pisces : 112\n",
      "mesha : 89\n",
      "aries : 19\n",
      "april : 17\n"
     ]
    }
   ],
   "source": [
    "vocab = vect.vocabulary_\n",
    "for key in vocab.keys():\n",
    "    print(\"{} : {}\".format(key, vocab[key]))"
   ]
  },
  {
   "cell_type": "code",
   "execution_count": 32,
   "metadata": {},
   "outputs": [],
   "source": [
    "from sklearn.metrics.pairwise import cosine_similarity\n",
    "similarity = cosine_similarity(vect.transform([\"Schengen visa process to go digitalIn a bid to ease paperwork for millions of tourists, the EU has proposed to make the Schengen visa process an online application system in the next few years. The Schengen visa allows travellers to visit and travel across 26 EU member nations for up to 90 days.\"]).toarray(), vect.transform([\"Suba aluth auwrudh dhak vewa. Puthandu vazhthukal. These are the Sinhalese and Tamil New Year greetings. ‘Aluth Avurudda’ is a festive day in Sri Lanka and I am wondering how I can recreate some elements of it being under the lockdown this year. The new year marks a new phase in the zodiac calendar with the sun moving from Meena (Pisces) to Mesha (Aries) in April.\"]).toarray())"
   ]
  },
  {
   "cell_type": "code",
   "execution_count": 33,
   "metadata": {},
   "outputs": [
    {
     "name": "stdout",
     "output_type": "stream",
     "text": [
      "[[0.11470787]]\n"
     ]
    }
   ],
   "source": [
    "print(similarity)"
   ]
  }
 ],
 "metadata": {
  "kernelspec": {
   "display_name": "Python 3",
   "language": "python",
   "name": "python3"
  },
  "language_info": {
   "codemirror_mode": {
    "name": "ipython",
    "version": 3
   },
   "file_extension": ".py",
   "mimetype": "text/x-python",
   "name": "python",
   "nbconvert_exporter": "python",
   "pygments_lexer": "ipython3",
   "version": "3.10.4"
  },
  "orig_nbformat": 4
 },
 "nbformat": 4,
 "nbformat_minor": 2
}
